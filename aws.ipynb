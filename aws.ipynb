{
 "cells": [
  {
   "cell_type": "markdown",
   "metadata": {},
   "source": [
    "Store Model in AWS S3 Bucket\n",
    "In the AWS console, create an S3 bucket and make it public. Load both the .json and .bin files."
   ]
  },
  {
   "cell_type": "markdown",
   "metadata": {},
   "source": [
    "Deploy Model in AWS Lambda\n",
    "On local machine, create a new folder. Then in the command prompt window, run : npm install @tensorflow/tfjs\n",
    "Open the text editor and copy thw following code then save it as a file called index.js"
   ]
  },
  {
   "cell_type": "code",
   "execution_count": null,
   "metadata": {
    "vscode": {
     "languageId": "plaintext"
    }
   },
   "outputs": [],
   "source": [
    "const tf = require('@tensorflow/tfjs');\n",
    "\n",
    "exports.handler = async (event) => {\n",
    "        const MODEL_URL = 'https://<your-bucket-name>.<your-S3-region>.amazonaws.com/model.json'\n",
    "        const model = await tf.loadLayersModel(MODEL_URL);\n",
    "        var xs;\n",
    "        xs = parseFloat(event.xs);\n",
    "        const input = tf.tensor2d([xs], [1,1]);\n",
    "        const result = model.predict(input);\n",
    "        const value = (await result.data())[0];\n",
    "\n",
    "    const response = {\n",
    "        statusCode: 200,\n",
    "        xs : JSON.stringify(event.xs),\n",
    "        body: JSON.stringify((await result.array())[0][0])\n",
    "    };\n",
    "    return response;\n",
    "};"
   ]
  },
  {
   "cell_type": "markdown",
   "metadata": {},
   "source": [
    "Put node_modules, package-lock.json and index.js in a zip folder.\n",
    "Go to the AWS console and create a new AWS lambda function and choose NodeJS as the programming Language. Load zip file and save Lambda."
   ]
  },
  {
   "cell_type": "markdown",
   "metadata": {},
   "source": [
    "Expose it with API gateway\n",
    "Go to the AWS console and create a new API REST. Choose a GET method and connect API to the Lambda function created earlier. For the mapping model, choose application/json and copy-paste the following code."
   ]
  },
  {
   "cell_type": "code",
   "execution_count": null,
   "metadata": {
    "vscode": {
     "languageId": "plaintext"
    }
   },
   "outputs": [],
   "source": [
    "{\n",
    "    \"xs\": $input.json('$.xs')\n",
    "}"
   ]
  },
  {
   "cell_type": "markdown",
   "metadata": {},
   "source": [
    "Now API is ready and interface is defined."
   ]
  }
 ],
 "metadata": {
  "language_info": {
   "name": "python"
  }
 },
 "nbformat": 4,
 "nbformat_minor": 2
}
